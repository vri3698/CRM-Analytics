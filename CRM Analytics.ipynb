{
 "cells": [
  {
   "cell_type": "markdown",
   "metadata": {},
   "source": [
    "# Overview\n",
    "\n",
    "1. Getting the Data\n",
    "2. Exploratory Data Analysis\n",
    "3. Regression: \n",
    "   a) with Continuous Variables Only\n",
    "   b) with Categorical Variables\n",
    "   c) with both Continous and Categorical Variables\n",
    "   d) excluding Non-significant variables\n",
    "4. Classification: \n",
    "    4.1 Support Vector Classification\n",
    "    4.2 Random Forest Classifier\n",
    "5. Feature Importance"
   ]
  },
  {
   "cell_type": "code",
   "execution_count": 1,
   "metadata": {
    "_cell_guid": "b1076dfc-b9ad-4769-8c92-a6c4dae69d19",
    "_uuid": "8f2839f25d086af736a60e9eeb907d3b93b6e0e5"
   },
   "outputs": [
    {
     "name": "stdout",
     "output_type": "stream",
     "text": [
      "['WA_Fn-UseC_-Marketing-Customer-Value-Analysis.csv']\n"
     ]
    }
   ],
   "source": [
    "import numpy as np # linear algebra\n",
    "import pandas as pd # data processing, CSV file I/O (e.g. pd.read_csv)\n",
    "\n",
    "import matplotlib.pyplot as plt\n",
    "import seaborn as sns               # Provides a high level interface for drawing attractive and informative statistical graphics\n",
    "%matplotlib inline\n",
    "sns.set()\n",
    "from subprocess import check_output\n",
    "\n",
    "import warnings                                            # Ignore warning related to pandas_profiling\n",
    "warnings.filterwarnings('ignore') \n",
    "\n",
    "def annot_plot(ax,w,h):                                    # function to add data to plot\n",
    "    ax.spines['top'].set_visible(False)\n",
    "    ax.spines['right'].set_visible(False)\n",
    "    for p in ax.patches:\n",
    "         ax.annotate(f\"{p.get_height() * 100 / df.shape[0]:.2f}%\", (p.get_x() + p.get_width() / 2., p.get_height()),\n",
    "         ha='center', va='center', fontsize=11, color='black', rotation=0, xytext=(0, 10),\n",
    "         textcoords='offset points')             \n",
    "def annot_plot_num(ax,w,h):                                    # function to add data to plot\n",
    "    ax.spines['top'].set_visible(False)\n",
    "    ax.spines['right'].set_visible(False)\n",
    "    for p in ax.patches:\n",
    "        ax.annotate('{0:.1f}'.format(p.get_height()), (p.get_x()+w, p.get_height()+h))\n",
    "\n",
    "import os\n",
    "print(os.listdir(\"../input\"))\n"
   ]
  },
  {
   "cell_type": "markdown",
   "metadata": {},
   "source": [
    "# 1. Data Loading"
   ]
  },
  {
   "cell_type": "code",
   "execution_count": 2,
   "metadata": {
    "_cell_guid": "79c7e3d0-c299-4dcb-8224-4455121ee9b0",
    "_uuid": "d629ff2d2480ee46fbb7e2d37f6b5fab8052498a"
   },
   "outputs": [],
   "source": [
    "df = pd.read_csv('../input/WA_Fn-UseC_-Marketing-Customer-Value-Analysis.csv')"
   ]
  },
  {
   "cell_type": "code",
   "execution_count": 3,
   "metadata": {},
   "outputs": [
    {
     "data": {
      "text/html": [
       "<div>\n",
       "<style scoped>\n",
       "    .dataframe tbody tr th:only-of-type {\n",
       "        vertical-align: middle;\n",
       "    }\n",
       "\n",
       "    .dataframe tbody tr th {\n",
       "        vertical-align: top;\n",
       "    }\n",
       "\n",
       "    .dataframe thead th {\n",
       "        text-align: right;\n",
       "    }\n",
       "</style>\n",
       "<table border=\"1\" class=\"dataframe\">\n",
       "  <thead>\n",
       "    <tr style=\"text-align: right;\">\n",
       "      <th></th>\n",
       "      <th>Customer</th>\n",
       "      <th>State</th>\n",
       "      <th>Customer Lifetime Value</th>\n",
       "      <th>Response</th>\n",
       "      <th>Coverage</th>\n",
       "      <th>Education</th>\n",
       "      <th>Effective To Date</th>\n",
       "      <th>EmploymentStatus</th>\n",
       "      <th>Gender</th>\n",
       "      <th>Income</th>\n",
       "      <th>Location Code</th>\n",
       "      <th>Marital Status</th>\n",
       "      <th>Monthly Premium Auto</th>\n",
       "      <th>Months Since Last Claim</th>\n",
       "      <th>Months Since Policy Inception</th>\n",
       "      <th>Number of Open Complaints</th>\n",
       "      <th>Number of Policies</th>\n",
       "      <th>Policy Type</th>\n",
       "      <th>Policy</th>\n",
       "      <th>Renew Offer Type</th>\n",
       "      <th>Sales Channel</th>\n",
       "      <th>Total Claim Amount</th>\n",
       "      <th>Vehicle Class</th>\n",
       "      <th>Vehicle Size</th>\n",
       "    </tr>\n",
       "  </thead>\n",
       "  <tbody>\n",
       "    <tr>\n",
       "      <th>0</th>\n",
       "      <td>BU79786</td>\n",
       "      <td>Washington</td>\n",
       "      <td>2763.519279</td>\n",
       "      <td>No</td>\n",
       "      <td>Basic</td>\n",
       "      <td>Bachelor</td>\n",
       "      <td>2/24/11</td>\n",
       "      <td>Employed</td>\n",
       "      <td>F</td>\n",
       "      <td>56274</td>\n",
       "      <td>Suburban</td>\n",
       "      <td>Married</td>\n",
       "      <td>69</td>\n",
       "      <td>32</td>\n",
       "      <td>5</td>\n",
       "      <td>0</td>\n",
       "      <td>1</td>\n",
       "      <td>Corporate Auto</td>\n",
       "      <td>Corporate L3</td>\n",
       "      <td>Offer1</td>\n",
       "      <td>Agent</td>\n",
       "      <td>384.811147</td>\n",
       "      <td>Two-Door Car</td>\n",
       "      <td>Medsize</td>\n",
       "    </tr>\n",
       "    <tr>\n",
       "      <th>1</th>\n",
       "      <td>QZ44356</td>\n",
       "      <td>Arizona</td>\n",
       "      <td>6979.535903</td>\n",
       "      <td>No</td>\n",
       "      <td>Extended</td>\n",
       "      <td>Bachelor</td>\n",
       "      <td>1/31/11</td>\n",
       "      <td>Unemployed</td>\n",
       "      <td>F</td>\n",
       "      <td>0</td>\n",
       "      <td>Suburban</td>\n",
       "      <td>Single</td>\n",
       "      <td>94</td>\n",
       "      <td>13</td>\n",
       "      <td>42</td>\n",
       "      <td>0</td>\n",
       "      <td>8</td>\n",
       "      <td>Personal Auto</td>\n",
       "      <td>Personal L3</td>\n",
       "      <td>Offer3</td>\n",
       "      <td>Agent</td>\n",
       "      <td>1131.464935</td>\n",
       "      <td>Four-Door Car</td>\n",
       "      <td>Medsize</td>\n",
       "    </tr>\n",
       "    <tr>\n",
       "      <th>2</th>\n",
       "      <td>AI49188</td>\n",
       "      <td>Nevada</td>\n",
       "      <td>12887.431650</td>\n",
       "      <td>No</td>\n",
       "      <td>Premium</td>\n",
       "      <td>Bachelor</td>\n",
       "      <td>2/19/11</td>\n",
       "      <td>Employed</td>\n",
       "      <td>F</td>\n",
       "      <td>48767</td>\n",
       "      <td>Suburban</td>\n",
       "      <td>Married</td>\n",
       "      <td>108</td>\n",
       "      <td>18</td>\n",
       "      <td>38</td>\n",
       "      <td>0</td>\n",
       "      <td>2</td>\n",
       "      <td>Personal Auto</td>\n",
       "      <td>Personal L3</td>\n",
       "      <td>Offer1</td>\n",
       "      <td>Agent</td>\n",
       "      <td>566.472247</td>\n",
       "      <td>Two-Door Car</td>\n",
       "      <td>Medsize</td>\n",
       "    </tr>\n",
       "    <tr>\n",
       "      <th>3</th>\n",
       "      <td>WW63253</td>\n",
       "      <td>California</td>\n",
       "      <td>7645.861827</td>\n",
       "      <td>No</td>\n",
       "      <td>Basic</td>\n",
       "      <td>Bachelor</td>\n",
       "      <td>1/20/11</td>\n",
       "      <td>Unemployed</td>\n",
       "      <td>M</td>\n",
       "      <td>0</td>\n",
       "      <td>Suburban</td>\n",
       "      <td>Married</td>\n",
       "      <td>106</td>\n",
       "      <td>18</td>\n",
       "      <td>65</td>\n",
       "      <td>0</td>\n",
       "      <td>7</td>\n",
       "      <td>Corporate Auto</td>\n",
       "      <td>Corporate L2</td>\n",
       "      <td>Offer1</td>\n",
       "      <td>Call Center</td>\n",
       "      <td>529.881344</td>\n",
       "      <td>SUV</td>\n",
       "      <td>Medsize</td>\n",
       "    </tr>\n",
       "    <tr>\n",
       "      <th>4</th>\n",
       "      <td>HB64268</td>\n",
       "      <td>Washington</td>\n",
       "      <td>2813.692575</td>\n",
       "      <td>No</td>\n",
       "      <td>Basic</td>\n",
       "      <td>Bachelor</td>\n",
       "      <td>2/3/11</td>\n",
       "      <td>Employed</td>\n",
       "      <td>M</td>\n",
       "      <td>43836</td>\n",
       "      <td>Rural</td>\n",
       "      <td>Single</td>\n",
       "      <td>73</td>\n",
       "      <td>12</td>\n",
       "      <td>44</td>\n",
       "      <td>0</td>\n",
       "      <td>1</td>\n",
       "      <td>Personal Auto</td>\n",
       "      <td>Personal L1</td>\n",
       "      <td>Offer1</td>\n",
       "      <td>Agent</td>\n",
       "      <td>138.130879</td>\n",
       "      <td>Four-Door Car</td>\n",
       "      <td>Medsize</td>\n",
       "    </tr>\n",
       "  </tbody>\n",
       "</table>\n",
       "</div>"
      ],
      "text/plain": [
       "  Customer       State     ...       Vehicle Class Vehicle Size\n",
       "0  BU79786  Washington     ...        Two-Door Car      Medsize\n",
       "1  QZ44356     Arizona     ...       Four-Door Car      Medsize\n",
       "2  AI49188      Nevada     ...        Two-Door Car      Medsize\n",
       "3  WW63253  California     ...                 SUV      Medsize\n",
       "4  HB64268  Washington     ...       Four-Door Car      Medsize\n",
       "\n",
       "[5 rows x 24 columns]"
      ]
     },
     "execution_count": 3,
     "metadata": {},
     "output_type": "execute_result"
    }
   ],
   "source": [
    "df.head()"
   ]
  },
  {
   "cell_type": "code",
   "execution_count": 4,
   "metadata": {},
   "outputs": [
    {
     "data": {
      "text/plain": [
       "(9134, 24)"
      ]
     },
     "execution_count": 4,
     "metadata": {},
     "output_type": "execute_result"
    }
   ],
   "source": [
    "df.shape"
   ]
  },
  {
   "cell_type": "code",
   "execution_count": 5,
   "metadata": {},
   "outputs": [],
   "source": [
    "df.Response = df.Response.apply(lambda X : 0 if X == 'No' else 1)"
   ]
  },
  {
   "cell_type": "code",
   "execution_count": 6,
   "metadata": {},
   "outputs": [
    {
     "data": {
      "text/html": [
       "<div>\n",
       "<style scoped>\n",
       "    .dataframe tbody tr th:only-of-type {\n",
       "        vertical-align: middle;\n",
       "    }\n",
       "\n",
       "    .dataframe tbody tr th {\n",
       "        vertical-align: top;\n",
       "    }\n",
       "\n",
       "    .dataframe thead th {\n",
       "        text-align: right;\n",
       "    }\n",
       "</style>\n",
       "<table border=\"1\" class=\"dataframe\">\n",
       "  <thead>\n",
       "    <tr style=\"text-align: right;\">\n",
       "      <th></th>\n",
       "      <th>Customer</th>\n",
       "      <th>State</th>\n",
       "      <th>Customer Lifetime Value</th>\n",
       "      <th>Response</th>\n",
       "      <th>Coverage</th>\n",
       "      <th>Education</th>\n",
       "      <th>Effective To Date</th>\n",
       "      <th>EmploymentStatus</th>\n",
       "      <th>Gender</th>\n",
       "      <th>Income</th>\n",
       "      <th>Location Code</th>\n",
       "      <th>Marital Status</th>\n",
       "      <th>Monthly Premium Auto</th>\n",
       "      <th>Months Since Last Claim</th>\n",
       "      <th>Months Since Policy Inception</th>\n",
       "      <th>Number of Open Complaints</th>\n",
       "      <th>Number of Policies</th>\n",
       "      <th>Policy Type</th>\n",
       "      <th>Policy</th>\n",
       "      <th>Renew Offer Type</th>\n",
       "      <th>Sales Channel</th>\n",
       "      <th>Total Claim Amount</th>\n",
       "      <th>Vehicle Class</th>\n",
       "      <th>Vehicle Size</th>\n",
       "    </tr>\n",
       "  </thead>\n",
       "  <tbody>\n",
       "    <tr>\n",
       "      <th>0</th>\n",
       "      <td>BU79786</td>\n",
       "      <td>Washington</td>\n",
       "      <td>2763.519279</td>\n",
       "      <td>0</td>\n",
       "      <td>Basic</td>\n",
       "      <td>Bachelor</td>\n",
       "      <td>2/24/11</td>\n",
       "      <td>Employed</td>\n",
       "      <td>F</td>\n",
       "      <td>56274</td>\n",
       "      <td>Suburban</td>\n",
       "      <td>Married</td>\n",
       "      <td>69</td>\n",
       "      <td>32</td>\n",
       "      <td>5</td>\n",
       "      <td>0</td>\n",
       "      <td>1</td>\n",
       "      <td>Corporate Auto</td>\n",
       "      <td>Corporate L3</td>\n",
       "      <td>Offer1</td>\n",
       "      <td>Agent</td>\n",
       "      <td>384.811147</td>\n",
       "      <td>Two-Door Car</td>\n",
       "      <td>Medsize</td>\n",
       "    </tr>\n",
       "    <tr>\n",
       "      <th>1</th>\n",
       "      <td>QZ44356</td>\n",
       "      <td>Arizona</td>\n",
       "      <td>6979.535903</td>\n",
       "      <td>0</td>\n",
       "      <td>Extended</td>\n",
       "      <td>Bachelor</td>\n",
       "      <td>1/31/11</td>\n",
       "      <td>Unemployed</td>\n",
       "      <td>F</td>\n",
       "      <td>0</td>\n",
       "      <td>Suburban</td>\n",
       "      <td>Single</td>\n",
       "      <td>94</td>\n",
       "      <td>13</td>\n",
       "      <td>42</td>\n",
       "      <td>0</td>\n",
       "      <td>8</td>\n",
       "      <td>Personal Auto</td>\n",
       "      <td>Personal L3</td>\n",
       "      <td>Offer3</td>\n",
       "      <td>Agent</td>\n",
       "      <td>1131.464935</td>\n",
       "      <td>Four-Door Car</td>\n",
       "      <td>Medsize</td>\n",
       "    </tr>\n",
       "    <tr>\n",
       "      <th>2</th>\n",
       "      <td>AI49188</td>\n",
       "      <td>Nevada</td>\n",
       "      <td>12887.431650</td>\n",
       "      <td>0</td>\n",
       "      <td>Premium</td>\n",
       "      <td>Bachelor</td>\n",
       "      <td>2/19/11</td>\n",
       "      <td>Employed</td>\n",
       "      <td>F</td>\n",
       "      <td>48767</td>\n",
       "      <td>Suburban</td>\n",
       "      <td>Married</td>\n",
       "      <td>108</td>\n",
       "      <td>18</td>\n",
       "      <td>38</td>\n",
       "      <td>0</td>\n",
       "      <td>2</td>\n",
       "      <td>Personal Auto</td>\n",
       "      <td>Personal L3</td>\n",
       "      <td>Offer1</td>\n",
       "      <td>Agent</td>\n",
       "      <td>566.472247</td>\n",
       "      <td>Two-Door Car</td>\n",
       "      <td>Medsize</td>\n",
       "    </tr>\n",
       "    <tr>\n",
       "      <th>3</th>\n",
       "      <td>WW63253</td>\n",
       "      <td>California</td>\n",
       "      <td>7645.861827</td>\n",
       "      <td>0</td>\n",
       "      <td>Basic</td>\n",
       "      <td>Bachelor</td>\n",
       "      <td>1/20/11</td>\n",
       "      <td>Unemployed</td>\n",
       "      <td>M</td>\n",
       "      <td>0</td>\n",
       "      <td>Suburban</td>\n",
       "      <td>Married</td>\n",
       "      <td>106</td>\n",
       "      <td>18</td>\n",
       "      <td>65</td>\n",
       "      <td>0</td>\n",
       "      <td>7</td>\n",
       "      <td>Corporate Auto</td>\n",
       "      <td>Corporate L2</td>\n",
       "      <td>Offer1</td>\n",
       "      <td>Call Center</td>\n",
       "      <td>529.881344</td>\n",
       "      <td>SUV</td>\n",
       "      <td>Medsize</td>\n",
       "    </tr>\n",
       "    <tr>\n",
       "      <th>4</th>\n",
       "      <td>HB64268</td>\n",
       "      <td>Washington</td>\n",
       "      <td>2813.692575</td>\n",
       "      <td>0</td>\n",
       "      <td>Basic</td>\n",
       "      <td>Bachelor</td>\n",
       "      <td>2/3/11</td>\n",
       "      <td>Employed</td>\n",
       "      <td>M</td>\n",
       "      <td>43836</td>\n",
       "      <td>Rural</td>\n",
       "      <td>Single</td>\n",
       "      <td>73</td>\n",
       "      <td>12</td>\n",
       "      <td>44</td>\n",
       "      <td>0</td>\n",
       "      <td>1</td>\n",
       "      <td>Personal Auto</td>\n",
       "      <td>Personal L1</td>\n",
       "      <td>Offer1</td>\n",
       "      <td>Agent</td>\n",
       "      <td>138.130879</td>\n",
       "      <td>Four-Door Car</td>\n",
       "      <td>Medsize</td>\n",
       "    </tr>\n",
       "  </tbody>\n",
       "</table>\n",
       "</div>"
      ],
      "text/plain": [
       "  Customer       State      ...       Vehicle Class  Vehicle Size\n",
       "0  BU79786  Washington      ...        Two-Door Car       Medsize\n",
       "1  QZ44356     Arizona      ...       Four-Door Car       Medsize\n",
       "2  AI49188      Nevada      ...        Two-Door Car       Medsize\n",
       "3  WW63253  California      ...                 SUV       Medsize\n",
       "4  HB64268  Washington      ...       Four-Door Car       Medsize\n",
       "\n",
       "[5 rows x 24 columns]"
      ]
     },
     "execution_count": 6,
     "metadata": {},
     "output_type": "execute_result"
    }
   ],
   "source": [
    "df.head()"
   ]
  },
  {
   "cell_type": "markdown",
   "metadata": {},
   "source": [
    "# 2  2. Exploratory Data Analysis(EDA):"
   ]
  },
  {
   "cell_type": "code",
   "execution_count": 7,
   "metadata": {},
   "outputs": [
    {
     "name": "stdout",
     "output_type": "stream",
     "text": [
      "<class 'pandas.core.frame.DataFrame'>\n",
      "RangeIndex: 9134 entries, 0 to 9133\n",
      "Data columns (total 24 columns):\n",
      "Customer                         9134 non-null object\n",
      "State                            9134 non-null object\n",
      "Customer Lifetime Value          9134 non-null float64\n",
      "Response                         9134 non-null int64\n",
      "Coverage                         9134 non-null object\n",
      "Education                        9134 non-null object\n",
      "Effective To Date                9134 non-null object\n",
      "EmploymentStatus                 9134 non-null object\n",
      "Gender                           9134 non-null object\n",
      "Income                           9134 non-null int64\n",
      "Location Code                    9134 non-null object\n",
      "Marital Status                   9134 non-null object\n",
      "Monthly Premium Auto             9134 non-null int64\n",
      "Months Since Last Claim          9134 non-null int64\n",
      "Months Since Policy Inception    9134 non-null int64\n",
      "Number of Open Complaints        9134 non-null int64\n",
      "Number of Policies               9134 non-null int64\n",
      "Policy Type                      9134 non-null object\n",
      "Policy                           9134 non-null object\n",
      "Renew Offer Type                 9134 non-null object\n",
      "Sales Channel                    9134 non-null object\n",
      "Total Claim Amount               9134 non-null float64\n",
      "Vehicle Class                    9134 non-null object\n",
      "Vehicle Size                     9134 non-null object\n",
      "dtypes: float64(2), int64(7), object(15)\n",
      "memory usage: 1.7+ MB\n"
     ]
    }
   ],
   "source": [
    "df.info()"
   ]
  },
  {
   "cell_type": "code",
   "execution_count": 8,
   "metadata": {},
   "outputs": [
    {
     "data": {
      "text/plain": [
       "Customer                         0\n",
       "State                            0\n",
       "Customer Lifetime Value          0\n",
       "Response                         0\n",
       "Coverage                         0\n",
       "Education                        0\n",
       "Effective To Date                0\n",
       "EmploymentStatus                 0\n",
       "Gender                           0\n",
       "Income                           0\n",
       "Location Code                    0\n",
       "Marital Status                   0\n",
       "Monthly Premium Auto             0\n",
       "Months Since Last Claim          0\n",
       "Months Since Policy Inception    0\n",
       "Number of Open Complaints        0\n",
       "Number of Policies               0\n",
       "Policy Type                      0\n",
       "Policy                           0\n",
       "Renew Offer Type                 0\n",
       "Sales Channel                    0\n",
       "Total Claim Amount               0\n",
       "Vehicle Class                    0\n",
       "Vehicle Size                     0\n",
       "dtype: int64"
      ]
     },
     "execution_count": 8,
     "metadata": {},
     "output_type": "execute_result"
    }
   ],
   "source": [
    "df.isnull().sum()"
   ]
  },
  {
   "cell_type": "code",
   "execution_count": 9,
   "metadata": {},
   "outputs": [
    {
     "data": {
      "text/html": [
       "<div>\n",
       "<style scoped>\n",
       "    .dataframe tbody tr th:only-of-type {\n",
       "        vertical-align: middle;\n",
       "    }\n",
       "\n",
       "    .dataframe tbody tr th {\n",
       "        vertical-align: top;\n",
       "    }\n",
       "\n",
       "    .dataframe thead th {\n",
       "        text-align: right;\n",
       "    }\n",
       "</style>\n",
       "<table border=\"1\" class=\"dataframe\">\n",
       "  <thead>\n",
       "    <tr style=\"text-align: right;\">\n",
       "      <th></th>\n",
       "      <th>Customer Lifetime Value</th>\n",
       "      <th>Response</th>\n",
       "      <th>Income</th>\n",
       "      <th>Monthly Premium Auto</th>\n",
       "      <th>Months Since Last Claim</th>\n",
       "      <th>Months Since Policy Inception</th>\n",
       "      <th>Number of Open Complaints</th>\n",
       "      <th>Number of Policies</th>\n",
       "      <th>Total Claim Amount</th>\n",
       "    </tr>\n",
       "  </thead>\n",
       "  <tbody>\n",
       "    <tr>\n",
       "      <th>count</th>\n",
       "      <td>9134.000000</td>\n",
       "      <td>9134.000000</td>\n",
       "      <td>9134.000000</td>\n",
       "      <td>9134.000000</td>\n",
       "      <td>9134.000000</td>\n",
       "      <td>9134.000000</td>\n",
       "      <td>9134.000000</td>\n",
       "      <td>9134.000000</td>\n",
       "      <td>9134.000000</td>\n",
       "    </tr>\n",
       "    <tr>\n",
       "      <th>mean</th>\n",
       "      <td>8004.940475</td>\n",
       "      <td>0.143201</td>\n",
       "      <td>37657.380009</td>\n",
       "      <td>93.219291</td>\n",
       "      <td>15.097000</td>\n",
       "      <td>48.064594</td>\n",
       "      <td>0.384388</td>\n",
       "      <td>2.966170</td>\n",
       "      <td>434.088794</td>\n",
       "    </tr>\n",
       "    <tr>\n",
       "      <th>std</th>\n",
       "      <td>6870.967608</td>\n",
       "      <td>0.350297</td>\n",
       "      <td>30379.904734</td>\n",
       "      <td>34.407967</td>\n",
       "      <td>10.073257</td>\n",
       "      <td>27.905991</td>\n",
       "      <td>0.910384</td>\n",
       "      <td>2.390182</td>\n",
       "      <td>290.500092</td>\n",
       "    </tr>\n",
       "    <tr>\n",
       "      <th>min</th>\n",
       "      <td>1898.007675</td>\n",
       "      <td>0.000000</td>\n",
       "      <td>0.000000</td>\n",
       "      <td>61.000000</td>\n",
       "      <td>0.000000</td>\n",
       "      <td>0.000000</td>\n",
       "      <td>0.000000</td>\n",
       "      <td>1.000000</td>\n",
       "      <td>0.099007</td>\n",
       "    </tr>\n",
       "    <tr>\n",
       "      <th>25%</th>\n",
       "      <td>3994.251794</td>\n",
       "      <td>0.000000</td>\n",
       "      <td>0.000000</td>\n",
       "      <td>68.000000</td>\n",
       "      <td>6.000000</td>\n",
       "      <td>24.000000</td>\n",
       "      <td>0.000000</td>\n",
       "      <td>1.000000</td>\n",
       "      <td>272.258244</td>\n",
       "    </tr>\n",
       "    <tr>\n",
       "      <th>50%</th>\n",
       "      <td>5780.182197</td>\n",
       "      <td>0.000000</td>\n",
       "      <td>33889.500000</td>\n",
       "      <td>83.000000</td>\n",
       "      <td>14.000000</td>\n",
       "      <td>48.000000</td>\n",
       "      <td>0.000000</td>\n",
       "      <td>2.000000</td>\n",
       "      <td>383.945434</td>\n",
       "    </tr>\n",
       "    <tr>\n",
       "      <th>75%</th>\n",
       "      <td>8962.167041</td>\n",
       "      <td>0.000000</td>\n",
       "      <td>62320.000000</td>\n",
       "      <td>109.000000</td>\n",
       "      <td>23.000000</td>\n",
       "      <td>71.000000</td>\n",
       "      <td>0.000000</td>\n",
       "      <td>4.000000</td>\n",
       "      <td>547.514839</td>\n",
       "    </tr>\n",
       "    <tr>\n",
       "      <th>max</th>\n",
       "      <td>83325.381190</td>\n",
       "      <td>1.000000</td>\n",
       "      <td>99981.000000</td>\n",
       "      <td>298.000000</td>\n",
       "      <td>35.000000</td>\n",
       "      <td>99.000000</td>\n",
       "      <td>5.000000</td>\n",
       "      <td>9.000000</td>\n",
       "      <td>2893.239678</td>\n",
       "    </tr>\n",
       "  </tbody>\n",
       "</table>\n",
       "</div>"
      ],
      "text/plain": [
       "       Customer Lifetime Value         ...          Total Claim Amount\n",
       "count              9134.000000         ...                 9134.000000\n",
       "mean               8004.940475         ...                  434.088794\n",
       "std                6870.967608         ...                  290.500092\n",
       "min                1898.007675         ...                    0.099007\n",
       "25%                3994.251794         ...                  272.258244\n",
       "50%                5780.182197         ...                  383.945434\n",
       "75%                8962.167041         ...                  547.514839\n",
       "max               83325.381190         ...                 2893.239678\n",
       "\n",
       "[8 rows x 9 columns]"
      ]
     },
     "execution_count": 9,
     "metadata": {},
     "output_type": "execute_result"
    }
   ],
   "source": [
    "df.describe()"
   ]
  },
  {
   "cell_type": "markdown",
   "metadata": {},
   "source": [
    "# 2.1 Response Rate:"
   ]
  },
  {
   "cell_type": "code",
   "execution_count": 10,
   "metadata": {},
   "outputs": [
    {
     "data": {
      "image/png": "[encoded data removed]",
      "text/plain": [
       "<Figure size 432x288 with 1 Axes>"
      ]
     },
     "metadata": {},
     "output_type": "display_data"
    }
   ],
   "source": [
    "ax = sns.countplot('Response',data = df)\n",
    "plt.ylabel('Total number of Response')\n",
    "annot_plot(ax, 0.08,1)\n",
    "plt.show()"
   ]
  },
  {
   "cell_type": "markdown",
   "metadata": {},
   "source": [
    "Notice that about 14% customers have responded to marketing calls, and the remaining 86% of the customers have not responded."
   ]
  },
  {
   "cell_type": "code",
   "execution_count": 11,
   "metadata": {},
   "outputs": [
    {
     "data": {
      "image/png": "[encoded data removed]",
      "text/plain": [
       "<Figure size 432x288 with 1 Axes>"
      ]
     },
     "metadata": {},
     "output_type": "display_data"
    }
   ],
   "source": [
    "ax = sns.countplot('Response',hue = 'Gender' ,data = df)\n",
    "plt.ylabel('Total number of Response')\n",
    "annot_plot(ax, 0.08,1)\n",
    "plt.show()"
   ]
  },
  {
   "cell_type": "markdown",
   "metadata": {},
   "source": [
    "Notice that, ratio of male and female for **responding to a marketing call** is almost same."
   ]
  },
  {
   "cell_type": "code",
   "execution_count": 12,
   "metadata": {},
   "outputs": [
    {
     "data": {
      "image/png": "[encoded data removed]",
      "text/plain": [
       "<Figure size 864x432 with 1 Axes>"
      ]
     },
     "metadata": {},
     "output_type": "display_data"
    }
   ],
   "source": [
    "plt.figure(figsize=(12,6))\n",
    "ax = sns.countplot('Response', hue = df['Marital Status'], data = df)\n",
    "annot_plot(ax,0.08,1)\n",
    "plt.show()"
   ]
  },
  {
   "cell_type": "markdown",
   "metadata": {},
   "source": [
    "Notice that out of 14% customers, 8% customers those who rsponded to marketing calls are from married category. "
   ]
  },
  {
   "cell_type": "markdown",
   "metadata": {},
   "source": [
    "# 2.1.1 Response rate by renew offer"
   ]
  },
  {
   "cell_type": "code",
   "execution_count": 13,
   "metadata": {},
   "outputs": [
    {
     "data": {
      "image/png": "[encoded data removed]",
      "text/plain": [
       "<Figure size 576x288 with 1 Axes>"
      ]
     },
     "metadata": {},
     "output_type": "display_data"
    }
   ],
   "source": [
    "plt.figure(figsize=(8,4))\n",
    "ax = sns.countplot('Response',hue = 'Renew Offer Type' ,data = df)\n",
    "plt.ylabel('Total number of Response')\n",
    "annot_plot(ax, 0.08,1)\n",
    "plt.show()"
   ]
  },
  {
   "cell_type": "markdown",
   "metadata": {},
   "source": [
    "For offer1 and offer2 customers have responded to marketing calls,but for offer3 and offer4 almost nobody responded."
   ]
  },
  {
   "cell_type": "markdown",
   "metadata": {},
   "source": [
    "# 2.1.2 Response rate by Education"
   ]
  },
  {
   "cell_type": "code",
   "execution_count": 14,
   "metadata": {},
   "outputs": [
    {
     "data": {
      "image/png": "[encoded data removed]",
      "text/plain": [
       "<Figure size 576x288 with 1 Axes>"
      ]
     },
     "metadata": {},
     "output_type": "display_data"
    }
   ],
   "source": [
    "plt.figure(figsize=(8,4))\n",
    "ax = sns.countplot('Response',hue = 'Education' ,data = df)\n",
    "plt.ylabel('Total number of Response')\n",
    "annot_plot(ax, 0.08,1)\n",
    "plt.show()"
   ]
  },
  {
   "cell_type": "markdown",
   "metadata": {},
   "source": [
    "Notice that customers with Doctor and master degree are very less who responded to marketing calls, may be they are not intersted or busy. or we can say young people are most likely to respond to marketing calls."
   ]
  },
  {
   "cell_type": "markdown",
   "metadata": {},
   "source": [
    "# 2.1.3 Response rate by Sales Channel"
   ]
  },
  {
   "cell_type": "code",
   "execution_count": 15,
   "metadata": {},
   "outputs": [
    {
     "data": {
      "image/png": "[encoded data removed]",
      "text/plain": [
       "<Figure size 576x288 with 1 Axes>"
      ]
     },
     "metadata": {},
     "output_type": "display_data"
    }
   ],
   "source": [
    "plt.figure(figsize=(8,4))\n",
    "ax = sns.countplot('Response',hue = 'Sales Channel' ,data = df)\n",
    "plt.ylabel('Total number of Response')\n",
    "annot_plot(ax, 0.08,1)\n",
    "plt.show()"
   ]
  },
  {
   "cell_type": "markdown",
   "metadata": {},
   "source": [
    "# 2.1.4 Response rate by Total Claim Amount"
   ]
  },
  {
   "cell_type": "code",
   "execution_count": 16,
   "metadata": {},
   "outputs": [
    {
     "data": {
      "image/png": "[encoded data removed]",
      "text/plain": [
       "<Figure size 864x432 with 1 Axes>"
      ]
     },
     "metadata": {},
     "output_type": "display_data"
    }
   ],
   "source": [
    "plt.figure(figsize=(12,6))\n",
    "sns.boxplot(y = 'Total Claim Amount' , x = 'Response', data = df)\n",
    "plt.ylabel('Total number of Response')\n",
    "plt.show()"
   ]
  },
  {
   "cell_type": "markdown",
   "metadata": {},
   "source": [
    "Box plots are a great way to visualize the distribuation of countinous variables. They show the min, max, first quatile, meadian and third quartile, all in one view. The central rectangle spans from the first quartile to the third quartile, and the green line shows the median. The lower and upper ends show the minimum and the maximum of each distribution.\n",
    "\n",
    "   The dots above the upper boundry line show the suspected outliers that are decided based on the **INterquartile range (IQR)**. The points that fall **1.5*IQR** above the third quartile or **1.5*IQR** below the quartile are suspected outliers and are drawn with the dots."
   ]
  },
  {
   "cell_type": "markdown",
   "metadata": {},
   "source": [
    "# 2.1.5 Response rate by Income Distributions"
   ]
  },
  {
   "cell_type": "code",
   "execution_count": 17,
   "metadata": {},
   "outputs": [
    {
     "data": {
      "image/png": "[encoded data removed]",
      "text/plain": [
       "<Figure size 864x432 with 1 Axes>"
      ]
     },
     "metadata": {},
     "output_type": "display_data"
    }
   ],
   "source": [
    "plt.figure(figsize=(12,6))\n",
    "sns.boxplot(y = 'Income' , x = 'Response', data = df)\n",
    "plt.show()"
   ]
  },
  {
   "cell_type": "markdown",
   "metadata": {},
   "source": [
    "# 2.1.6 Response rate by EmploymentStatus"
   ]
  },
  {
   "cell_type": "code",
   "execution_count": 18,
   "metadata": {},
   "outputs": [
    {
     "data": {
      "image/png": "[encoded data removed]",
      "text/plain": [
       "<Figure size 720x432 with 1 Axes>"
      ]
     },
     "metadata": {},
     "output_type": "display_data"
    }
   ],
   "source": [
    "plt.figure(figsize=(10,6))\n",
    "ax = sns.countplot('Response',hue = 'EmploymentStatus' ,data = df)\n",
    "plt.ylabel('Total number of Response')\n",
    "annot_plot(ax, 0.08,1)\n",
    "plt.show()"
   ]
  },
  {
   "cell_type": "markdown",
   "metadata": {},
   "source": [
    "# 2.1.7 Response rate by Vehicle Class:"
   ]
  },
  {
   "cell_type": "code",
   "execution_count": 19,
   "metadata": {},
   "outputs": [
    {
     "data": {
      "image/png": "[encoded data removed]",
      "text/plain": [
       "<Figure size 720x432 with 1 Axes>"
      ]
     },
     "metadata": {},
     "output_type": "display_data"
    }
   ],
   "source": [
    "plt.figure(figsize=(10,6))\n",
    "ax = sns.countplot('Response',hue = 'Vehicle Class' ,data = df)\n",
    "plt.ylabel('Total number of Response')\n",
    "annot_plot(ax, 0.08,1)\n",
    "plt.show()"
   ]
  },
  {
   "cell_type": "markdown",
   "metadata": {},
   "source": [
    "# 2.1.8 Response rate by Policy:"
   ]
  },
  {
   "cell_type": "code",
   "execution_count": 20,
   "metadata": {},
   "outputs": [
    {
     "data": {
      "image/png": "[encoded data removed]",
      "text/plain": [
       "<Figure size 1080x432 with 1 Axes>"
      ]
     },
     "metadata": {},
     "output_type": "display_data"
    }
   ],
   "source": [
    "plt.figure(figsize=(15,6))\n",
    "ax = sns.countplot('Response',hue = 'Policy' ,data = df)\n",
    "plt.ylabel('Total number of Response')\n",
    "annot_plot(ax, 0.08,1)\n",
    "plt.show()"
   ]
  },
  {
   "cell_type": "markdown",
   "metadata": {},
   "source": [
    "# 3. Regression Analysis with Continuous Variables Only"
   ]
  },
  {
   "cell_type": "code",
   "execution_count": 21,
   "metadata": {},
   "outputs": [],
   "source": [
    "import statsmodels.api as sm"
   ]
  },
  {
   "cell_type": "code",
   "execution_count": 22,
   "metadata": {},
   "outputs": [
    {
     "data": {
      "text/plain": [
       "Customer Lifetime Value          8041\n",
       "Response                            2\n",
       "Income                           5694\n",
       "Monthly Premium Auto              202\n",
       "Months Since Last Claim            36\n",
       "Months Since Policy Inception     100\n",
       "Number of Open Complaints           6\n",
       "Number of Policies                  9\n",
       "Total Claim Amount               5106\n",
       "dtype: int64"
      ]
     },
     "execution_count": 22,
     "metadata": {},
     "output_type": "execute_result"
    }
   ],
   "source": [
    "continous_var_df = df.select_dtypes(include=['int64','float'])\n",
    "continous_var_df.nunique()"
   ]
  },
  {
   "cell_type": "code",
   "execution_count": 23,
   "metadata": {},
   "outputs": [
    {
     "data": {
      "text/plain": [
       "Index(['Customer Lifetime Value', 'Response', 'Income', 'Monthly Premium Auto',\n",
       "       'Months Since Last Claim', 'Months Since Policy Inception',\n",
       "       'Number of Open Complaints', 'Number of Policies',\n",
       "       'Total Claim Amount'],\n",
       "      dtype='object')"
      ]
     },
     "execution_count": 23,
     "metadata": {},
     "output_type": "execute_result"
    }
   ],
   "source": [
    "continous_var_df.columns"
   ]
  },
  {
   "cell_type": "code",
   "execution_count": 24,
   "metadata": {},
   "outputs": [
    {
     "name": "stdout",
     "output_type": "stream",
     "text": [
      "Optimization terminated successfully.\n",
      "         Current function value: 0.421189\n",
      "         Iterations 6\n"
     ]
    },
    {
     "data": {
      "text/html": [
       "<table class=\"simpletable\">\n",
       "<caption>Logit Regression Results</caption>\n",
       "<tr>\n",
       "  <th>Dep. Variable:</th>     <td>Response</td>     <th>  No. Observations:  </th>  <td>  9134</td> \n",
       "</tr>\n",
       "<tr>\n",
       "  <th>Model:</th>               <td>Logit</td>      <th>  Df Residuals:      </th>  <td>  9126</td> \n",
       "</tr>\n",
       "<tr>\n",
       "  <th>Method:</th>               <td>MLE</td>       <th>  Df Model:          </th>  <td>     7</td> \n",
       "</tr>\n",
       "<tr>\n",
       "  <th>Date:</th>          <td>Sun, 09 Jun 2019</td> <th>  Pseudo R-squ.:     </th> <td>-0.02546</td>\n",
       "</tr>\n",
       "<tr>\n",
       "  <th>Time:</th>              <td>09:23:53</td>     <th>  Log-Likelihood:    </th> <td> -3847.1</td>\n",
       "</tr>\n",
       "<tr>\n",
       "  <th>converged:</th>           <td>True</td>       <th>  LL-Null:           </th> <td> -3751.6</td>\n",
       "</tr>\n",
       "<tr>\n",
       "  <th> </th>                      <td> </td>        <th>  LLR p-value:       </th>  <td> 1.000</td> \n",
       "</tr>\n",
       "</table>\n",
       "<table class=\"simpletable\">\n",
       "<tr>\n",
       "                <td></td>                   <th>coef</th>     <th>std err</th>      <th>z</th>      <th>P>|z|</th>  <th>[0.025</th>    <th>0.975]</th>  \n",
       "</tr>\n",
       "<tr>\n",
       "  <th>Customer Lifetime Value</th>       <td>-6.741e-06</td> <td> 5.04e-06</td> <td>   -1.337</td> <td> 0.181</td> <td>-1.66e-05</td> <td> 3.14e-06</td>\n",
       "</tr>\n",
       "<tr>\n",
       "  <th>Income</th>                        <td>-2.857e-06</td> <td> 1.03e-06</td> <td>   -2.766</td> <td> 0.006</td> <td>-4.88e-06</td> <td>-8.33e-07</td>\n",
       "</tr>\n",
       "<tr>\n",
       "  <th>Monthly Premium Auto</th>          <td>   -0.0084</td> <td>    0.001</td> <td>   -6.889</td> <td> 0.000</td> <td>   -0.011</td> <td>   -0.006</td>\n",
       "</tr>\n",
       "<tr>\n",
       "  <th>Months Since Last Claim</th>       <td>   -0.0202</td> <td>    0.003</td> <td>   -7.238</td> <td> 0.000</td> <td>   -0.026</td> <td>   -0.015</td>\n",
       "</tr>\n",
       "<tr>\n",
       "  <th>Months Since Policy Inception</th> <td>   -0.0060</td> <td>    0.001</td> <td>   -6.148</td> <td> 0.000</td> <td>   -0.008</td> <td>   -0.004</td>\n",
       "</tr>\n",
       "<tr>\n",
       "  <th>Number of Open Complaints</th>     <td>   -0.0829</td> <td>    0.034</td> <td>   -2.424</td> <td> 0.015</td> <td>   -0.150</td> <td>   -0.016</td>\n",
       "</tr>\n",
       "<tr>\n",
       "  <th>Number of Policies</th>            <td>   -0.0810</td> <td>    0.013</td> <td>   -6.356</td> <td> 0.000</td> <td>   -0.106</td> <td>   -0.056</td>\n",
       "</tr>\n",
       "<tr>\n",
       "  <th>Total Claim Amount</th>            <td>    0.0001</td> <td>    0.000</td> <td>    0.711</td> <td> 0.477</td> <td>   -0.000</td> <td>    0.000</td>\n",
       "</tr>\n",
       "</table>"
      ],
      "text/plain": [
       "<class 'statsmodels.iolib.summary.Summary'>\n",
       "\"\"\"\n",
       "                           Logit Regression Results                           \n",
       "==============================================================================\n",
       "Dep. Variable:               Response   No. Observations:                 9134\n",
       "Model:                          Logit   Df Residuals:                     9126\n",
       "Method:                           MLE   Df Model:                            7\n",
       "Date:                Sun, 09 Jun 2019   Pseudo R-squ.:                -0.02546\n",
       "Time:                        09:23:53   Log-Likelihood:                -3847.1\n",
       "converged:                       True   LL-Null:                       -3751.6\n",
       "                                        LLR p-value:                     1.000\n",
       "=================================================================================================\n",
       "                                    coef    std err          z      P>|z|      [0.025      0.975]\n",
       "-------------------------------------------------------------------------------------------------\n",
       "Customer Lifetime Value       -6.741e-06   5.04e-06     -1.337      0.181   -1.66e-05    3.14e-06\n",
       "Income                        -2.857e-06   1.03e-06     -2.766      0.006   -4.88e-06   -8.33e-07\n",
       "Monthly Premium Auto             -0.0084      0.001     -6.889      0.000      -0.011      -0.006\n",
       "Months Since Last Claim          -0.0202      0.003     -7.238      0.000      -0.026      -0.015\n",
       "Months Since Policy Inception    -0.0060      0.001     -6.148      0.000      -0.008      -0.004\n",
       "Number of Open Complaints        -0.0829      0.034     -2.424      0.015      -0.150      -0.016\n",
       "Number of Policies               -0.0810      0.013     -6.356      0.000      -0.106      -0.056\n",
       "Total Claim Amount                0.0001      0.000      0.711      0.477      -0.000       0.000\n",
       "=================================================================================================\n",
       "\"\"\""
      ]
     },
     "execution_count": 24,
     "metadata": {},
     "output_type": "execute_result"
    }
   ],
   "source": [
    "continous_var_reg = sm.Logit(continous_var_df['Response'], continous_var_df.drop('Response', axis = 1))\n",
    "continous_var_reg.fit().summary()"
   ]
  },
  {
   "cell_type": "markdown",
   "metadata": {},
   "source": [
    "By looking at the **p-value** of **'Income', 'Monthly Premium Auto','Months Since Last Claim', 'Months Since Policy Inception','Number of Open Complaints', 'Number of Policies'**, these input variables seems to have significant relationships with the output(target) variable 'Response'. By looking at the coeff,they are all **negatively correlated** to the Response variable."
   ]
  },
  {
   "cell_type": "markdown",
   "metadata": {},
   "source": [
    "**What Are P Values?**\n",
    "\n",
    "P values evaluate how well the sample data support the devil’s advocate argument that the null hypothesis is true. It measures how compatible your data are with the null hypothesis. How likely is the effect observed in your sample data if the null hypothesis is true?\n",
    "\n",
    "> **High P values: your data are likely with a true null.**\n",
    "\n",
    "> **Low P values: your data are unlikely with a true null**\n",
    "\n",
    "A low P value suggests that your sample provides enough evidence that you can reject the null hypothesis for the entire population."
   ]
  },
  {
   "cell_type": "code",
   "execution_count": 25,
   "metadata": {},
   "outputs": [
    {
     "data": {
      "image/png": "[encoded data removed]",
      "text/plain": [
       "<Figure size 720x432 with 2 Axes>"
      ]
     },
     "metadata": {},
     "output_type": "display_data"
    }
   ],
   "source": [
    "plt.figure(figsize=(10,6))\n",
    "sns.heatmap(continous_var_df.corr(), annot = True)\n",
    "plt.show()"
   ]
  },
  {
   "cell_type": "markdown",
   "metadata": {},
   "source": [
    "# 4.Regression Analysis with Categorical Variables"
   ]
  },
  {
   "cell_type": "code",
   "execution_count": 26,
   "metadata": {},
   "outputs": [],
   "source": [
    "categorical_df = df.select_dtypes(include='object')\n",
    "cat_df = categorical_df.drop(['Customer','Effective To Date'], axis = 1)"
   ]
  },
  {
   "cell_type": "code",
   "execution_count": 27,
   "metadata": {},
   "outputs": [
    {
     "data": {
      "text/plain": [
       "State               5\n",
       "Coverage            3\n",
       "Education           5\n",
       "EmploymentStatus    5\n",
       "Gender              2\n",
       "Location Code       3\n",
       "Marital Status      3\n",
       "Policy Type         3\n",
       "Policy              9\n",
       "Renew Offer Type    4\n",
       "Sales Channel       4\n",
       "Vehicle Class       6\n",
       "Vehicle Size        3\n",
       "dtype: int64"
      ]
     },
     "execution_count": 27,
     "metadata": {},
     "output_type": "execute_result"
    }
   ],
   "source": [
    "cat_df.nunique()"
   ]
  },
  {
   "cell_type": "markdown",
   "metadata": {},
   "source": [
    " # Conversion of Categorical data"
   ]
  },
  {
   "cell_type": "code",
   "execution_count": 28,
   "metadata": {},
   "outputs": [
    {
     "data": {
      "text/plain": [
       "Index(['State', 'Coverage', 'Education', 'EmploymentStatus', 'Gender',\n",
       "       'Location Code', 'Marital Status', 'Policy Type', 'Policy',\n",
       "       'Renew Offer Type', 'Sales Channel', 'Vehicle Class', 'Vehicle Size'],\n",
       "      dtype='object')"
      ]
     },
     "execution_count": 28,
     "metadata": {},
     "output_type": "execute_result"
    }
   ],
   "source": [
    "cat_df.columns"
   ]
  },
  {
   "cell_type": "code",
   "execution_count": 29,
   "metadata": {},
   "outputs": [],
   "source": [
    "cols = ['State', 'Coverage', 'Education', 'EmploymentStatus', 'Gender',\n",
    "       'Location Code', 'Marital Status', 'Policy Type', 'Policy',\n",
    "       'Renew Offer Type', 'Sales Channel', 'Vehicle Class', 'Vehicle Size']"
   ]
  },
  {
   "cell_type": "code",
   "execution_count": 30,
   "metadata": {},
   "outputs": [],
   "source": [
    "from sklearn.preprocessing import LabelEncoder\n",
    "lb = LabelEncoder()\n",
    "for col in cat_df[cols]:\n",
    "    cat_df[col] = lb.fit_transform(cat_df[col])"
   ]
  },
  {
   "cell_type": "code",
   "execution_count": 31,
   "metadata": {},
   "outputs": [
    {
     "data": {
      "text/html": [
       "<div>\n",
       "<style scoped>\n",
       "    .dataframe tbody tr th:only-of-type {\n",
       "        vertical-align: middle;\n",
       "    }\n",
       "\n",
       "    .dataframe tbody tr th {\n",
       "        vertical-align: top;\n",
       "    }\n",
       "\n",
       "    .dataframe thead th {\n",
       "        text-align: right;\n",
       "    }\n",
       "</style>\n",
       "<table border=\"1\" class=\"dataframe\">\n",
       "  <thead>\n",
       "    <tr style=\"text-align: right;\">\n",
       "      <th></th>\n",
       "      <th>State</th>\n",
       "      <th>Coverage</th>\n",
       "      <th>Education</th>\n",
       "      <th>EmploymentStatus</th>\n",
       "      <th>Gender</th>\n",
       "      <th>Location Code</th>\n",
       "      <th>Marital Status</th>\n",
       "      <th>Policy Type</th>\n",
       "      <th>Policy</th>\n",
       "      <th>Renew Offer Type</th>\n",
       "      <th>Sales Channel</th>\n",
       "      <th>Vehicle Class</th>\n",
       "      <th>Vehicle Size</th>\n",
       "    </tr>\n",
       "  </thead>\n",
       "  <tbody>\n",
       "    <tr>\n",
       "      <th>0</th>\n",
       "      <td>4</td>\n",
       "      <td>0</td>\n",
       "      <td>0</td>\n",
       "      <td>1</td>\n",
       "      <td>0</td>\n",
       "      <td>1</td>\n",
       "      <td>1</td>\n",
       "      <td>0</td>\n",
       "      <td>2</td>\n",
       "      <td>0</td>\n",
       "      <td>0</td>\n",
       "      <td>5</td>\n",
       "      <td>1</td>\n",
       "    </tr>\n",
       "    <tr>\n",
       "      <th>1</th>\n",
       "      <td>0</td>\n",
       "      <td>1</td>\n",
       "      <td>0</td>\n",
       "      <td>4</td>\n",
       "      <td>0</td>\n",
       "      <td>1</td>\n",
       "      <td>2</td>\n",
       "      <td>1</td>\n",
       "      <td>5</td>\n",
       "      <td>2</td>\n",
       "      <td>0</td>\n",
       "      <td>0</td>\n",
       "      <td>1</td>\n",
       "    </tr>\n",
       "    <tr>\n",
       "      <th>2</th>\n",
       "      <td>2</td>\n",
       "      <td>2</td>\n",
       "      <td>0</td>\n",
       "      <td>1</td>\n",
       "      <td>0</td>\n",
       "      <td>1</td>\n",
       "      <td>1</td>\n",
       "      <td>1</td>\n",
       "      <td>5</td>\n",
       "      <td>0</td>\n",
       "      <td>0</td>\n",
       "      <td>5</td>\n",
       "      <td>1</td>\n",
       "    </tr>\n",
       "    <tr>\n",
       "      <th>3</th>\n",
       "      <td>1</td>\n",
       "      <td>0</td>\n",
       "      <td>0</td>\n",
       "      <td>4</td>\n",
       "      <td>1</td>\n",
       "      <td>1</td>\n",
       "      <td>1</td>\n",
       "      <td>0</td>\n",
       "      <td>1</td>\n",
       "      <td>0</td>\n",
       "      <td>2</td>\n",
       "      <td>3</td>\n",
       "      <td>1</td>\n",
       "    </tr>\n",
       "    <tr>\n",
       "      <th>4</th>\n",
       "      <td>4</td>\n",
       "      <td>0</td>\n",
       "      <td>0</td>\n",
       "      <td>1</td>\n",
       "      <td>1</td>\n",
       "      <td>0</td>\n",
       "      <td>2</td>\n",
       "      <td>1</td>\n",
       "      <td>3</td>\n",
       "      <td>0</td>\n",
       "      <td>0</td>\n",
       "      <td>0</td>\n",
       "      <td>1</td>\n",
       "    </tr>\n",
       "  </tbody>\n",
       "</table>\n",
       "</div>"
      ],
      "text/plain": [
       "   State  Coverage      ...       Vehicle Class  Vehicle Size\n",
       "0      4         0      ...                   5             1\n",
       "1      0         1      ...                   0             1\n",
       "2      2         2      ...                   5             1\n",
       "3      1         0      ...                   3             1\n",
       "4      4         0      ...                   0             1\n",
       "\n",
       "[5 rows x 13 columns]"
      ]
     },
     "execution_count": 31,
     "metadata": {},
     "output_type": "execute_result"
    }
   ],
   "source": [
    "cat_df.head()"
   ]
  },
  {
   "cell_type": "code",
   "execution_count": 32,
   "metadata": {},
   "outputs": [
    {
     "name": "stdout",
     "output_type": "stream",
     "text": [
      "Optimization terminated successfully.\n",
      "         Current function value: 0.387557\n",
      "         Iterations 7\n"
     ]
    },
    {
     "data": {
      "text/html": [
       "<table class=\"simpletable\">\n",
       "<caption>Logit Regression Results</caption>\n",
       "<tr>\n",
       "  <th>Dep. Variable:</th>     <td>Response</td>     <th>  No. Observations:  </th>  <td>  9134</td>  \n",
       "</tr>\n",
       "<tr>\n",
       "  <th>Model:</th>               <td>Logit</td>      <th>  Df Residuals:      </th>  <td>  9121</td>  \n",
       "</tr>\n",
       "<tr>\n",
       "  <th>Method:</th>               <td>MLE</td>       <th>  Df Model:          </th>  <td>    12</td>  \n",
       "</tr>\n",
       "<tr>\n",
       "  <th>Date:</th>          <td>Sun, 09 Jun 2019</td> <th>  Pseudo R-squ.:     </th>  <td>0.05642</td> \n",
       "</tr>\n",
       "<tr>\n",
       "  <th>Time:</th>              <td>09:23:54</td>     <th>  Log-Likelihood:    </th> <td> -3539.9</td> \n",
       "</tr>\n",
       "<tr>\n",
       "  <th>converged:</th>           <td>True</td>       <th>  LL-Null:           </th> <td> -3751.6</td> \n",
       "</tr>\n",
       "<tr>\n",
       "  <th> </th>                      <td> </td>        <th>  LLR p-value:       </th> <td>4.224e-83</td>\n",
       "</tr>\n",
       "</table>\n",
       "<table class=\"simpletable\">\n",
       "<tr>\n",
       "          <td></td>            <th>coef</th>     <th>std err</th>      <th>z</th>      <th>P>|z|</th>  <th>[0.025</th>    <th>0.975]</th>  \n",
       "</tr>\n",
       "<tr>\n",
       "  <th>State</th>            <td>   -0.0256</td> <td>    0.023</td> <td>   -1.122</td> <td> 0.262</td> <td>   -0.070</td> <td>    0.019</td>\n",
       "</tr>\n",
       "<tr>\n",
       "  <th>Coverage</th>         <td>   -0.0639</td> <td>    0.046</td> <td>   -1.390</td> <td> 0.164</td> <td>   -0.154</td> <td>    0.026</td>\n",
       "</tr>\n",
       "<tr>\n",
       "  <th>Education</th>        <td>    0.0088</td> <td>    0.022</td> <td>    0.409</td> <td> 0.683</td> <td>   -0.033</td> <td>    0.051</td>\n",
       "</tr>\n",
       "<tr>\n",
       "  <th>EmploymentStatus</th> <td>   -0.0459</td> <td>    0.024</td> <td>   -1.951</td> <td> 0.051</td> <td>   -0.092</td> <td>    0.000</td>\n",
       "</tr>\n",
       "<tr>\n",
       "  <th>Gender</th>           <td>    0.0466</td> <td>    0.060</td> <td>    0.774</td> <td> 0.439</td> <td>   -0.071</td> <td>    0.165</td>\n",
       "</tr>\n",
       "<tr>\n",
       "  <th>Location Code</th>    <td>   -0.0477</td> <td>    0.047</td> <td>   -1.014</td> <td> 0.311</td> <td>   -0.140</td> <td>    0.045</td>\n",
       "</tr>\n",
       "<tr>\n",
       "  <th>Marital Status</th>   <td>   -0.4643</td> <td>    0.047</td> <td>   -9.816</td> <td> 0.000</td> <td>   -0.557</td> <td>   -0.372</td>\n",
       "</tr>\n",
       "<tr>\n",
       "  <th>Policy Type</th>      <td>    0.1736</td> <td>    0.132</td> <td>    1.311</td> <td> 0.190</td> <td>   -0.086</td> <td>    0.433</td>\n",
       "</tr>\n",
       "<tr>\n",
       "  <th>Policy</th>           <td>   -0.0751</td> <td>    0.037</td> <td>   -2.033</td> <td> 0.042</td> <td>   -0.147</td> <td>   -0.003</td>\n",
       "</tr>\n",
       "<tr>\n",
       "  <th>Renew Offer Type</th> <td>   -0.5681</td> <td>    0.037</td> <td>  -15.226</td> <td> 0.000</td> <td>   -0.641</td> <td>   -0.495</td>\n",
       "</tr>\n",
       "<tr>\n",
       "  <th>Sales Channel</th>    <td>   -0.2150</td> <td>    0.030</td> <td>   -7.148</td> <td> 0.000</td> <td>   -0.274</td> <td>   -0.156</td>\n",
       "</tr>\n",
       "<tr>\n",
       "  <th>Vehicle Class</th>    <td>    0.0201</td> <td>    0.015</td> <td>    1.381</td> <td> 0.167</td> <td>   -0.008</td> <td>    0.049</td>\n",
       "</tr>\n",
       "<tr>\n",
       "  <th>Vehicle Size</th>     <td>   -0.3355</td> <td>    0.052</td> <td>   -6.398</td> <td> 0.000</td> <td>   -0.438</td> <td>   -0.233</td>\n",
       "</tr>\n",
       "</table>"
      ],
      "text/plain": [
       "<class 'statsmodels.iolib.summary.Summary'>\n",
       "\"\"\"\n",
       "                           Logit Regression Results                           \n",
       "==============================================================================\n",
       "Dep. Variable:               Response   No. Observations:                 9134\n",
       "Model:                          Logit   Df Residuals:                     9121\n",
       "Method:                           MLE   Df Model:                           12\n",
       "Date:                Sun, 09 Jun 2019   Pseudo R-squ.:                 0.05642\n",
       "Time:                        09:23:54   Log-Likelihood:                -3539.9\n",
       "converged:                       True   LL-Null:                       -3751.6\n",
       "                                        LLR p-value:                 4.224e-83\n",
       "====================================================================================\n",
       "                       coef    std err          z      P>|z|      [0.025      0.975]\n",
       "------------------------------------------------------------------------------------\n",
       "State               -0.0256      0.023     -1.122      0.262      -0.070       0.019\n",
       "Coverage            -0.0639      0.046     -1.390      0.164      -0.154       0.026\n",
       "Education            0.0088      0.022      0.409      0.683      -0.033       0.051\n",
       "EmploymentStatus    -0.0459      0.024     -1.951      0.051      -0.092       0.000\n",
       "Gender               0.0466      0.060      0.774      0.439      -0.071       0.165\n",
       "Location Code       -0.0477      0.047     -1.014      0.311      -0.140       0.045\n",
       "Marital Status      -0.4643      0.047     -9.816      0.000      -0.557      -0.372\n",
       "Policy Type          0.1736      0.132      1.311      0.190      -0.086       0.433\n",
       "Policy              -0.0751      0.037     -2.033      0.042      -0.147      -0.003\n",
       "Renew Offer Type    -0.5681      0.037    -15.226      0.000      -0.641      -0.495\n",
       "Sales Channel       -0.2150      0.030     -7.148      0.000      -0.274      -0.156\n",
       "Vehicle Class        0.0201      0.015      1.381      0.167      -0.008       0.049\n",
       "Vehicle Size        -0.3355      0.052     -6.398      0.000      -0.438      -0.233\n",
       "====================================================================================\n",
       "\"\"\""
      ]
     },
     "execution_count": 32,
     "metadata": {},
     "output_type": "execute_result"
    }
   ],
   "source": [
    "categorical_train = sm.Logit(continous_var_df.Response, cat_df)\n",
    "categorical_train.fit().summary()"
   ]
  },
  {
   "cell_type": "markdown",
   "metadata": {},
   "source": [
    "By looking at **p-value**,**'Marital Status','Renew Offer type','Sales channel','Vehicle size','policy'** variables are significant at 0.05 significance level, and all of them have negative relationship with the output variable, **Response**."
   ]
  },
  {
   "cell_type": "markdown",
   "metadata": {},
   "source": [
    "# 5. Regression Analysis with bith Continous and Categorical Variables."
   ]
  },
  {
   "cell_type": "code",
   "execution_count": 33,
   "metadata": {},
   "outputs": [],
   "source": [
    "continous_var_df.reset_index(drop = True, inplace=True)\n",
    "cat_df.reset_index(drop = True, inplace=True)"
   ]
  },
  {
   "cell_type": "code",
   "execution_count": 34,
   "metadata": {},
   "outputs": [],
   "source": [
    "all_data_df = pd.concat([continous_var_df,cat_df], axis = 1)"
   ]
  },
  {
   "cell_type": "code",
   "execution_count": 35,
   "metadata": {},
   "outputs": [
    {
     "data": {
      "text/html": [
       "<div>\n",
       "<style scoped>\n",
       "    .dataframe tbody tr th:only-of-type {\n",
       "        vertical-align: middle;\n",
       "    }\n",
       "\n",
       "    .dataframe tbody tr th {\n",
       "        vertical-align: top;\n",
       "    }\n",
       "\n",
       "    .dataframe thead th {\n",
       "        text-align: right;\n",
       "    }\n",
       "</style>\n",
       "<table border=\"1\" class=\"dataframe\">\n",
       "  <thead>\n",
       "    <tr style=\"text-align: right;\">\n",
       "      <th></th>\n",
       "      <th>Customer Lifetime Value</th>\n",
       "      <th>Response</th>\n",
       "      <th>Income</th>\n",
       "      <th>Monthly Premium Auto</th>\n",
       "      <th>Months Since Last Claim</th>\n",
       "      <th>Months Since Policy Inception</th>\n",
       "      <th>Number of Open Complaints</th>\n",
       "      <th>Number of Policies</th>\n",
       "      <th>Total Claim Amount</th>\n",
       "      <th>State</th>\n",
       "      <th>Coverage</th>\n",
       "      <th>Education</th>\n",
       "      <th>EmploymentStatus</th>\n",
       "      <th>Gender</th>\n",
       "      <th>Location Code</th>\n",
       "      <th>Marital Status</th>\n",
       "      <th>Policy Type</th>\n",
       "      <th>Policy</th>\n",
       "      <th>Renew Offer Type</th>\n",
       "      <th>Sales Channel</th>\n",
       "      <th>Vehicle Class</th>\n",
       "      <th>Vehicle Size</th>\n",
       "    </tr>\n",
       "  </thead>\n",
       "  <tbody>\n",
       "    <tr>\n",
       "      <th>0</th>\n",
       "      <td>2763.519279</td>\n",
       "      <td>0</td>\n",
       "      <td>56274</td>\n",
       "      <td>69</td>\n",
       "      <td>32</td>\n",
       "      <td>5</td>\n",
       "      <td>0</td>\n",
       "      <td>1</td>\n",
       "      <td>384.811147</td>\n",
       "      <td>4</td>\n",
       "      <td>0</td>\n",
       "      <td>0</td>\n",
       "      <td>1</td>\n",
       "      <td>0</td>\n",
       "      <td>1</td>\n",
       "      <td>1</td>\n",
       "      <td>0</td>\n",
       "      <td>2</td>\n",
       "      <td>0</td>\n",
       "      <td>0</td>\n",
       "      <td>5</td>\n",
       "      <td>1</td>\n",
       "    </tr>\n",
       "    <tr>\n",
       "      <th>1</th>\n",
       "      <td>6979.535903</td>\n",
       "      <td>0</td>\n",
       "      <td>0</td>\n",
       "      <td>94</td>\n",
       "      <td>13</td>\n",
       "      <td>42</td>\n",
       "      <td>0</td>\n",
       "      <td>8</td>\n",
       "      <td>1131.464935</td>\n",
       "      <td>0</td>\n",
       "      <td>1</td>\n",
       "      <td>0</td>\n",
       "      <td>4</td>\n",
       "      <td>0</td>\n",
       "      <td>1</td>\n",
       "      <td>2</td>\n",
       "      <td>1</td>\n",
       "      <td>5</td>\n",
       "      <td>2</td>\n",
       "      <td>0</td>\n",
       "      <td>0</td>\n",
       "      <td>1</td>\n",
       "    </tr>\n",
       "    <tr>\n",
       "      <th>2</th>\n",
       "      <td>12887.431650</td>\n",
       "      <td>0</td>\n",
       "      <td>48767</td>\n",
       "      <td>108</td>\n",
       "      <td>18</td>\n",
       "      <td>38</td>\n",
       "      <td>0</td>\n",
       "      <td>2</td>\n",
       "      <td>566.472247</td>\n",
       "      <td>2</td>\n",
       "      <td>2</td>\n",
       "      <td>0</td>\n",
       "      <td>1</td>\n",
       "      <td>0</td>\n",
       "      <td>1</td>\n",
       "      <td>1</td>\n",
       "      <td>1</td>\n",
       "      <td>5</td>\n",
       "      <td>0</td>\n",
       "      <td>0</td>\n",
       "      <td>5</td>\n",
       "      <td>1</td>\n",
       "    </tr>\n",
       "    <tr>\n",
       "      <th>3</th>\n",
       "      <td>7645.861827</td>\n",
       "      <td>0</td>\n",
       "      <td>0</td>\n",
       "      <td>106</td>\n",
       "      <td>18</td>\n",
       "      <td>65</td>\n",
       "      <td>0</td>\n",
       "      <td>7</td>\n",
       "      <td>529.881344</td>\n",
       "      <td>1</td>\n",
       "      <td>0</td>\n",
       "      <td>0</td>\n",
       "      <td>4</td>\n",
       "      <td>1</td>\n",
       "      <td>1</td>\n",
       "      <td>1</td>\n",
       "      <td>0</td>\n",
       "      <td>1</td>\n",
       "      <td>0</td>\n",
       "      <td>2</td>\n",
       "      <td>3</td>\n",
       "      <td>1</td>\n",
       "    </tr>\n",
       "    <tr>\n",
       "      <th>4</th>\n",
       "      <td>2813.692575</td>\n",
       "      <td>0</td>\n",
       "      <td>43836</td>\n",
       "      <td>73</td>\n",
       "      <td>12</td>\n",
       "      <td>44</td>\n",
       "      <td>0</td>\n",
       "      <td>1</td>\n",
       "      <td>138.130879</td>\n",
       "      <td>4</td>\n",
       "      <td>0</td>\n",
       "      <td>0</td>\n",
       "      <td>1</td>\n",
       "      <td>1</td>\n",
       "      <td>0</td>\n",
       "      <td>2</td>\n",
       "      <td>1</td>\n",
       "      <td>3</td>\n",
       "      <td>0</td>\n",
       "      <td>0</td>\n",
       "      <td>0</td>\n",
       "      <td>1</td>\n",
       "    </tr>\n",
       "  </tbody>\n",
       "</table>\n",
       "</div>"
      ],
      "text/plain": [
       "   Customer Lifetime Value  Response      ...       Vehicle Class  Vehicle Size\n",
       "0              2763.519279         0      ...                   5             1\n",
       "1              6979.535903         0      ...                   0             1\n",
       "2             12887.431650         0      ...                   5             1\n",
       "3              7645.861827         0      ...                   3             1\n",
       "4              2813.692575         0      ...                   0             1\n",
       "\n",
       "[5 rows x 22 columns]"
      ]
     },
     "execution_count": 35,
     "metadata": {},
     "output_type": "execute_result"
    }
   ],
   "source": [
    "all_data_df.head()"
   ]
  },
  {
   "cell_type": "code",
   "execution_count": 36,
   "metadata": {},
   "outputs": [
    {
     "name": "stdout",
     "output_type": "stream",
     "text": [
      "Optimization terminated successfully.\n",
      "         Current function value: 0.384709\n",
      "         Iterations 7\n"
     ]
    },
    {
     "data": {
      "text/html": [
       "<table class=\"simpletable\">\n",
       "<caption>Logit Regression Results</caption>\n",
       "<tr>\n",
       "  <th>Dep. Variable:</th>     <td>Response</td>     <th>  No. Observations:  </th>  <td>  9134</td>  \n",
       "</tr>\n",
       "<tr>\n",
       "  <th>Model:</th>               <td>Logit</td>      <th>  Df Residuals:      </th>  <td>  9113</td>  \n",
       "</tr>\n",
       "<tr>\n",
       "  <th>Method:</th>               <td>MLE</td>       <th>  Df Model:          </th>  <td>    20</td>  \n",
       "</tr>\n",
       "<tr>\n",
       "  <th>Date:</th>          <td>Sun, 09 Jun 2019</td> <th>  Pseudo R-squ.:     </th>  <td>0.06336</td> \n",
       "</tr>\n",
       "<tr>\n",
       "  <th>Time:</th>              <td>09:23:55</td>     <th>  Log-Likelihood:    </th> <td> -3513.9</td> \n",
       "</tr>\n",
       "<tr>\n",
       "  <th>converged:</th>           <td>True</td>       <th>  LL-Null:           </th> <td> -3751.6</td> \n",
       "</tr>\n",
       "<tr>\n",
       "  <th> </th>                      <td> </td>        <th>  LLR p-value:       </th> <td>4.066e-88</td>\n",
       "</tr>\n",
       "</table>\n",
       "<table class=\"simpletable\">\n",
       "<tr>\n",
       "                <td></td>                   <th>coef</th>     <th>std err</th>      <th>z</th>      <th>P>|z|</th>  <th>[0.025</th>    <th>0.975]</th>  \n",
       "</tr>\n",
       "<tr>\n",
       "  <th>Customer Lifetime Value</th>       <td>-1.183e-05</td> <td> 5.11e-06</td> <td>   -2.317</td> <td> 0.021</td> <td>-2.18e-05</td> <td>-1.82e-06</td>\n",
       "</tr>\n",
       "<tr>\n",
       "  <th>Income</th>                        <td> 3.347e-06</td> <td> 1.39e-06</td> <td>    2.411</td> <td> 0.016</td> <td> 6.26e-07</td> <td> 6.07e-06</td>\n",
       "</tr>\n",
       "<tr>\n",
       "  <th>Monthly Premium Auto</th>          <td>   -0.0033</td> <td>    0.001</td> <td>   -2.471</td> <td> 0.013</td> <td>   -0.006</td> <td>   -0.001</td>\n",
       "</tr>\n",
       "<tr>\n",
       "  <th>Months Since Last Claim</th>       <td>   -0.0053</td> <td>    0.003</td> <td>   -1.780</td> <td> 0.075</td> <td>   -0.011</td> <td>    0.001</td>\n",
       "</tr>\n",
       "<tr>\n",
       "  <th>Months Since Policy Inception</th> <td>   -0.0019</td> <td>    0.001</td> <td>   -1.830</td> <td> 0.067</td> <td>   -0.004</td> <td>    0.000</td>\n",
       "</tr>\n",
       "<tr>\n",
       "  <th>Number of Open Complaints</th>     <td>   -0.0569</td> <td>    0.035</td> <td>   -1.622</td> <td> 0.105</td> <td>   -0.126</td> <td>    0.012</td>\n",
       "</tr>\n",
       "<tr>\n",
       "  <th>Number of Policies</th>            <td>   -0.0392</td> <td>    0.013</td> <td>   -3.013</td> <td> 0.003</td> <td>   -0.065</td> <td>   -0.014</td>\n",
       "</tr>\n",
       "<tr>\n",
       "  <th>Total Claim Amount</th>            <td>    0.0007</td> <td>    0.000</td> <td>    4.448</td> <td> 0.000</td> <td>    0.000</td> <td>    0.001</td>\n",
       "</tr>\n",
       "<tr>\n",
       "  <th>State</th>                         <td>   -0.0084</td> <td>    0.023</td> <td>   -0.357</td> <td> 0.721</td> <td>   -0.054</td> <td>    0.038</td>\n",
       "</tr>\n",
       "<tr>\n",
       "  <th>Coverage</th>                      <td>   -0.0325</td> <td>    0.053</td> <td>   -0.615</td> <td> 0.538</td> <td>   -0.136</td> <td>    0.071</td>\n",
       "</tr>\n",
       "<tr>\n",
       "  <th>Education</th>                     <td>    0.0235</td> <td>    0.022</td> <td>    1.068</td> <td> 0.285</td> <td>   -0.020</td> <td>    0.067</td>\n",
       "</tr>\n",
       "<tr>\n",
       "  <th>EmploymentStatus</th>              <td>   -0.0232</td> <td>    0.030</td> <td>   -0.763</td> <td> 0.445</td> <td>   -0.083</td> <td>    0.036</td>\n",
       "</tr>\n",
       "<tr>\n",
       "  <th>Gender</th>                        <td>    0.0584</td> <td>    0.061</td> <td>    0.950</td> <td> 0.342</td> <td>   -0.062</td> <td>    0.179</td>\n",
       "</tr>\n",
       "<tr>\n",
       "  <th>Location Code</th>                 <td>   -0.0894</td> <td>    0.053</td> <td>   -1.696</td> <td> 0.090</td> <td>   -0.193</td> <td>    0.014</td>\n",
       "</tr>\n",
       "<tr>\n",
       "  <th>Marital Status</th>                <td>   -0.4645</td> <td>    0.048</td> <td>   -9.585</td> <td> 0.000</td> <td>   -0.559</td> <td>   -0.370</td>\n",
       "</tr>\n",
       "<tr>\n",
       "  <th>Policy Type</th>                   <td>    0.1085</td> <td>    0.135</td> <td>    0.806</td> <td> 0.420</td> <td>   -0.155</td> <td>    0.372</td>\n",
       "</tr>\n",
       "<tr>\n",
       "  <th>Policy</th>                        <td>   -0.0335</td> <td>    0.039</td> <td>   -0.864</td> <td> 0.388</td> <td>   -0.110</td> <td>    0.043</td>\n",
       "</tr>\n",
       "<tr>\n",
       "  <th>Renew Offer Type</th>              <td>   -0.5828</td> <td>    0.039</td> <td>  -15.136</td> <td> 0.000</td> <td>   -0.658</td> <td>   -0.507</td>\n",
       "</tr>\n",
       "<tr>\n",
       "  <th>Sales Channel</th>                 <td>   -0.1937</td> <td>    0.030</td> <td>   -6.354</td> <td> 0.000</td> <td>   -0.253</td> <td>   -0.134</td>\n",
       "</tr>\n",
       "<tr>\n",
       "  <th>Vehicle Class</th>                 <td>    0.0287</td> <td>    0.015</td> <td>    1.897</td> <td> 0.058</td> <td>   -0.001</td> <td>    0.058</td>\n",
       "</tr>\n",
       "<tr>\n",
       "  <th>Vehicle Size</th>                  <td>   -0.2837</td> <td>    0.055</td> <td>   -5.161</td> <td> 0.000</td> <td>   -0.391</td> <td>   -0.176</td>\n",
       "</tr>\n",
       "</table>"
      ],
      "text/plain": [
       "<class 'statsmodels.iolib.summary.Summary'>\n",
       "\"\"\"\n",
       "                           Logit Regression Results                           \n",
       "==============================================================================\n",
       "Dep. Variable:               Response   No. Observations:                 9134\n",
       "Model:                          Logit   Df Residuals:                     9113\n",
       "Method:                           MLE   Df Model:                           20\n",
       "Date:                Sun, 09 Jun 2019   Pseudo R-squ.:                 0.06336\n",
       "Time:                        09:23:55   Log-Likelihood:                -3513.9\n",
       "converged:                       True   LL-Null:                       -3751.6\n",
       "                                        LLR p-value:                 4.066e-88\n",
       "=================================================================================================\n",
       "                                    coef    std err          z      P>|z|      [0.025      0.975]\n",
       "-------------------------------------------------------------------------------------------------\n",
       "Customer Lifetime Value       -1.183e-05   5.11e-06     -2.317      0.021   -2.18e-05   -1.82e-06\n",
       "Income                         3.347e-06   1.39e-06      2.411      0.016    6.26e-07    6.07e-06\n",
       "Monthly Premium Auto             -0.0033      0.001     -2.471      0.013      -0.006      -0.001\n",
       "Months Since Last Claim          -0.0053      0.003     -1.780      0.075      -0.011       0.001\n",
       "Months Since Policy Inception    -0.0019      0.001     -1.830      0.067      -0.004       0.000\n",
       "Number of Open Complaints        -0.0569      0.035     -1.622      0.105      -0.126       0.012\n",
       "Number of Policies               -0.0392      0.013     -3.013      0.003      -0.065      -0.014\n",
       "Total Claim Amount                0.0007      0.000      4.448      0.000       0.000       0.001\n",
       "State                            -0.0084      0.023     -0.357      0.721      -0.054       0.038\n",
       "Coverage                         -0.0325      0.053     -0.615      0.538      -0.136       0.071\n",
       "Education                         0.0235      0.022      1.068      0.285      -0.020       0.067\n",
       "EmploymentStatus                 -0.0232      0.030     -0.763      0.445      -0.083       0.036\n",
       "Gender                            0.0584      0.061      0.950      0.342      -0.062       0.179\n",
       "Location Code                    -0.0894      0.053     -1.696      0.090      -0.193       0.014\n",
       "Marital Status                   -0.4645      0.048     -9.585      0.000      -0.559      -0.370\n",
       "Policy Type                       0.1085      0.135      0.806      0.420      -0.155       0.372\n",
       "Policy                           -0.0335      0.039     -0.864      0.388      -0.110       0.043\n",
       "Renew Offer Type                 -0.5828      0.039    -15.136      0.000      -0.658      -0.507\n",
       "Sales Channel                    -0.1937      0.030     -6.354      0.000      -0.253      -0.134\n",
       "Vehicle Class                     0.0287      0.015      1.897      0.058      -0.001       0.058\n",
       "Vehicle Size                     -0.2837      0.055     -5.161      0.000      -0.391      -0.176\n",
       "=================================================================================================\n",
       "\"\"\""
      ]
     },
     "execution_count": 36,
     "metadata": {},
     "output_type": "execute_result"
    }
   ],
   "source": [
    "total_train = sm.Logit(all_data_df.Response, all_data_df.drop(['Response'], axis = 1))\n",
    "total_train.fit().summary()"
   ]
  },
  {
   "cell_type": "markdown",
   "metadata": {},
   "source": [
    "By looking at the **p-value** of **'Customer lifetime value','Income', 'Monthly Premium Auto','Months Since Last Claim', 'Months Since Policy Inception','Number of Policies','Total claim amount','Marital Status','Renew offer type','Sales Channel','Vehicle size'**, these input variables seems to have significant relationships with the output(target) variable 'Response'. By looking at the coeff,they are all **negatively correlated** to the Response variable."
   ]
  },
  {
   "cell_type": "markdown",
   "metadata": {},
   "source": [
    "**Conclusion:** The higher the Customer Lifetime value is, the less likely that the customer will be response to marketing calls."
   ]
  },
  {
   "cell_type": "markdown",
   "metadata": {},
   "source": [
    "# 6. Regression Analysis with excluding Non-significant variables"
   ]
  },
  {
   "cell_type": "code",
   "execution_count": 37,
   "metadata": {},
   "outputs": [
    {
     "data": {
      "text/plain": [
       "Index(['Customer Lifetime Value', 'Response', 'Income', 'Monthly Premium Auto',\n",
       "       'Months Since Last Claim', 'Months Since Policy Inception',\n",
       "       'Number of Open Complaints', 'Number of Policies', 'Total Claim Amount',\n",
       "       'State', 'Coverage', 'Education', 'EmploymentStatus', 'Gender',\n",
       "       'Location Code', 'Marital Status', 'Policy Type', 'Policy',\n",
       "       'Renew Offer Type', 'Sales Channel', 'Vehicle Class', 'Vehicle Size'],\n",
       "      dtype='object')"
      ]
     },
     "execution_count": 37,
     "metadata": {},
     "output_type": "execute_result"
    }
   ],
   "source": [
    "all_data_df.columns"
   ]
  },
  {
   "cell_type": "code",
   "execution_count": 38,
   "metadata": {},
   "outputs": [
    {
     "name": "stdout",
     "output_type": "stream",
     "text": [
      "Optimization terminated successfully.\n",
      "         Current function value: 0.385476\n",
      "         Iterations 7\n"
     ]
    },
    {
     "data": {
      "text/html": [
       "<table class=\"simpletable\">\n",
       "<caption>Logit Regression Results</caption>\n",
       "<tr>\n",
       "  <th>Dep. Variable:</th>     <td>Response</td>     <th>  No. Observations:  </th>  <td>  9134</td>  \n",
       "</tr>\n",
       "<tr>\n",
       "  <th>Model:</th>               <td>Logit</td>      <th>  Df Residuals:      </th>  <td>  9123</td>  \n",
       "</tr>\n",
       "<tr>\n",
       "  <th>Method:</th>               <td>MLE</td>       <th>  Df Model:          </th>  <td>    10</td>  \n",
       "</tr>\n",
       "<tr>\n",
       "  <th>Date:</th>          <td>Sun, 09 Jun 2019</td> <th>  Pseudo R-squ.:     </th>  <td>0.06149</td> \n",
       "</tr>\n",
       "<tr>\n",
       "  <th>Time:</th>              <td>09:23:55</td>     <th>  Log-Likelihood:    </th> <td> -3520.9</td> \n",
       "</tr>\n",
       "<tr>\n",
       "  <th>converged:</th>           <td>True</td>       <th>  LL-Null:           </th> <td> -3751.6</td> \n",
       "</tr>\n",
       "<tr>\n",
       "  <th> </th>                      <td> </td>        <th>  LLR p-value:       </th> <td>7.814e-93</td>\n",
       "</tr>\n",
       "</table>\n",
       "<table class=\"simpletable\">\n",
       "<tr>\n",
       "                <td></td>                   <th>coef</th>     <th>std err</th>      <th>z</th>      <th>P>|z|</th>  <th>[0.025</th>    <th>0.975]</th>  \n",
       "</tr>\n",
       "<tr>\n",
       "  <th>Customer Lifetime Value</th>       <td>-1.129e-05</td> <td> 5.09e-06</td> <td>   -2.217</td> <td> 0.027</td> <td>-2.13e-05</td> <td>-1.31e-06</td>\n",
       "</tr>\n",
       "<tr>\n",
       "  <th>Income</th>                        <td> 3.549e-06</td> <td> 1.11e-06</td> <td>    3.192</td> <td> 0.001</td> <td> 1.37e-06</td> <td> 5.73e-06</td>\n",
       "</tr>\n",
       "<tr>\n",
       "  <th>Monthly Premium Auto</th>          <td>   -0.0033</td> <td>    0.001</td> <td>   -2.762</td> <td> 0.006</td> <td>   -0.006</td> <td>   -0.001</td>\n",
       "</tr>\n",
       "<tr>\n",
       "  <th>Months Since Last Claim</th>       <td>   -0.0062</td> <td>    0.003</td> <td>   -2.102</td> <td> 0.036</td> <td>   -0.012</td> <td>   -0.000</td>\n",
       "</tr>\n",
       "<tr>\n",
       "  <th>Months Since Policy Inception</th> <td>   -0.0023</td> <td>    0.001</td> <td>   -2.238</td> <td> 0.025</td> <td>   -0.004</td> <td>   -0.000</td>\n",
       "</tr>\n",
       "<tr>\n",
       "  <th>Number of Policies</th>            <td>   -0.0414</td> <td>    0.013</td> <td>   -3.226</td> <td> 0.001</td> <td>   -0.067</td> <td>   -0.016</td>\n",
       "</tr>\n",
       "<tr>\n",
       "  <th>Total Claim Amount</th>            <td>    0.0006</td> <td>    0.000</td> <td>    4.148</td> <td> 0.000</td> <td>    0.000</td> <td>    0.001</td>\n",
       "</tr>\n",
       "<tr>\n",
       "  <th>Marital Status</th>                <td>   -0.4794</td> <td>    0.045</td> <td>  -10.664</td> <td> 0.000</td> <td>   -0.567</td> <td>   -0.391</td>\n",
       "</tr>\n",
       "<tr>\n",
       "  <th>Renew Offer Type</th>              <td>   -0.5793</td> <td>    0.038</td> <td>  -15.268</td> <td> 0.000</td> <td>   -0.654</td> <td>   -0.505</td>\n",
       "</tr>\n",
       "<tr>\n",
       "  <th>Sales Channel</th>                 <td>   -0.1981</td> <td>    0.030</td> <td>   -6.539</td> <td> 0.000</td> <td>   -0.257</td> <td>   -0.139</td>\n",
       "</tr>\n",
       "<tr>\n",
       "  <th>Vehicle Size</th>                  <td>   -0.3031</td> <td>    0.053</td> <td>   -5.690</td> <td> 0.000</td> <td>   -0.407</td> <td>   -0.199</td>\n",
       "</tr>\n",
       "</table>"
      ],
      "text/plain": [
       "<class 'statsmodels.iolib.summary.Summary'>\n",
       "\"\"\"\n",
       "                           Logit Regression Results                           \n",
       "==============================================================================\n",
       "Dep. Variable:               Response   No. Observations:                 9134\n",
       "Model:                          Logit   Df Residuals:                     9123\n",
       "Method:                           MLE   Df Model:                           10\n",
       "Date:                Sun, 09 Jun 2019   Pseudo R-squ.:                 0.06149\n",
       "Time:                        09:23:55   Log-Likelihood:                -3520.9\n",
       "converged:                       True   LL-Null:                       -3751.6\n",
       "                                        LLR p-value:                 7.814e-93\n",
       "=================================================================================================\n",
       "                                    coef    std err          z      P>|z|      [0.025      0.975]\n",
       "-------------------------------------------------------------------------------------------------\n",
       "Customer Lifetime Value       -1.129e-05   5.09e-06     -2.217      0.027   -2.13e-05   -1.31e-06\n",
       "Income                         3.549e-06   1.11e-06      3.192      0.001    1.37e-06    5.73e-06\n",
       "Monthly Premium Auto             -0.0033      0.001     -2.762      0.006      -0.006      -0.001\n",
       "Months Since Last Claim          -0.0062      0.003     -2.102      0.036      -0.012      -0.000\n",
       "Months Since Policy Inception    -0.0023      0.001     -2.238      0.025      -0.004      -0.000\n",
       "Number of Policies               -0.0414      0.013     -3.226      0.001      -0.067      -0.016\n",
       "Total Claim Amount                0.0006      0.000      4.148      0.000       0.000       0.001\n",
       "Marital Status                   -0.4794      0.045    -10.664      0.000      -0.567      -0.391\n",
       "Renew Offer Type                 -0.5793      0.038    -15.268      0.000      -0.654      -0.505\n",
       "Sales Channel                    -0.1981      0.030     -6.539      0.000      -0.257      -0.139\n",
       "Vehicle Size                     -0.3031      0.053     -5.690      0.000      -0.407      -0.199\n",
       "=================================================================================================\n",
       "\"\"\""
      ]
     },
     "execution_count": 38,
     "metadata": {},
     "output_type": "execute_result"
    }
   ],
   "source": [
    "significant_cols = ['Customer Lifetime Value','Income','Monthly Premium Auto','Months Since Last Claim',\n",
    "                    'Months Since Policy Inception','Number of Policies','Total Claim Amount','Marital Status',\n",
    "                    'Renew Offer Type','Sales Channel','Vehicle Size']\n",
    "trainData = sm.Logit(all_data_df.Response, all_data_df[significant_cols])\n",
    "trainData.fit().summary()"
   ]
  },
  {
   "cell_type": "markdown",
   "metadata": {},
   "source": [
    "## 7.Classification:"
   ]
  },
  {
   "cell_type": "code",
   "execution_count": 39,
   "metadata": {},
   "outputs": [],
   "source": [
    "y = all_data_df.Response\n",
    "X = all_data_df.drop('Response', axis = 1)"
   ]
  },
  {
   "cell_type": "code",
   "execution_count": 40,
   "metadata": {},
   "outputs": [],
   "source": [
    "from sklearn.model_selection import train_test_split, cross_validate\n",
    "X_train,  X_test, y_train, y_test = train_test_split(X,y, test_size = 0.3, random_state = 42)"
   ]
  },
  {
   "cell_type": "code",
   "execution_count": 41,
   "metadata": {},
   "outputs": [
    {
     "data": {
      "image/png": "[encoded data removed]",
      "text/plain": [
       "<Figure size 432x288 with 1 Axes>"
      ]
     },
     "metadata": {},
     "output_type": "display_data"
    }
   ],
   "source": [
    "ax = sns.countplot(y_test)\n",
    "annot_plot_num(ax,0.08,1)"
   ]
  },
  {
   "cell_type": "markdown",
   "metadata": {},
   "source": [
    "## 7.1 SVC Classification"
   ]
  },
  {
   "cell_type": "code",
   "execution_count": 42,
   "metadata": {},
   "outputs": [
    {
     "name": "stdout",
     "output_type": "stream",
     "text": [
      "[[2332   43]\n",
      " [   0  366]]\n",
      "accuracy_score: 0.9843122947829259\n",
      "              precision    recall  f1-score   support\n",
      "\n",
      "           0       1.00      0.98      0.99      2375\n",
      "           1       0.89      1.00      0.94       366\n",
      "\n",
      "   micro avg       0.98      0.98      0.98      2741\n",
      "   macro avg       0.95      0.99      0.97      2741\n",
      "weighted avg       0.99      0.98      0.98      2741\n",
      "\n",
      "Cross validation train_score 1.0\n",
      "Cross validation test_score 0.9776321678484378\n"
     ]
    }
   ],
   "source": [
    "from sklearn.metrics import confusion_matrix, accuracy_score, classification_report\n",
    "from sklearn.svm import SVC\n",
    "\n",
    "svc = SVC()\n",
    "svc.fit(X_train, y_train)\n",
    "svc_pred = svc.predict(X_test)\n",
    "\n",
    "print(confusion_matrix(svc_pred,y_test))\n",
    "print('accuracy_score:',accuracy_score(svc_pred, y_test))\n",
    "print(classification_report(svc_pred, y_test))\n",
    "\n",
    "cross_val_score_svc = cross_validate(svc, X_train, y_train,cv = 5)\n",
    "print('Cross validation train_score',cross_val_score_svc['train_score'].mean())\n",
    "print('Cross validation test_score',cross_val_score_svc['test_score'].mean())\n"
   ]
  },
  {
   "cell_type": "markdown",
   "metadata": {},
   "source": [
    "## 7.2.RandomForestClassifier"
   ]
  },
  {
   "cell_type": "code",
   "execution_count": 43,
   "metadata": {},
   "outputs": [
    {
     "name": "stdout",
     "output_type": "stream",
     "text": [
      "[[2326   27]\n",
      " [   6  382]]\n",
      "Accuracy score: 0.9879605983217804\n",
      "              precision    recall  f1-score   support\n",
      "\n",
      "           0       1.00      0.99      0.99      2353\n",
      "           1       0.93      0.98      0.96       388\n",
      "\n",
      "   micro avg       0.99      0.99      0.99      2741\n",
      "   macro avg       0.97      0.99      0.98      2741\n",
      "weighted avg       0.99      0.99      0.99      2741\n",
      "\n",
      "Cross validation train_score 0.9991396931815437\n",
      "Cross validation test_score 0.9809167180458012\n"
     ]
    }
   ],
   "source": [
    "from sklearn.ensemble import RandomForestClassifier\n",
    "rfc = RandomForestClassifier()\n",
    "rfc.fit(X_train, y_train)\n",
    "rfc_pred = rfc.predict(X_test)\n",
    "\n",
    "print(confusion_matrix(rfc_pred,y_test))\n",
    "print('Accuracy score:',accuracy_score(rfc_pred, y_test))\n",
    "print(classification_report(rfc_pred, y_test))\n",
    "\n",
    "cross_val_score_rfc = cross_validate(rfc, X_train, y_train,cv = 5)\n",
    "\n",
    "print('Cross validation train_score',cross_val_score_rfc['train_score'].mean())\n",
    "print('Cross validation test_score',cross_val_score_rfc['test_score'].mean())\n"
   ]
  },
  {
   "cell_type": "markdown",
   "metadata": {},
   "source": [
    "## 8.Feature Importance"
   ]
  },
  {
   "cell_type": "code",
   "execution_count": 44,
   "metadata": {},
   "outputs": [
    {
     "data": {
      "image/png": "[encoded data removed]",
      "text/plain": [
       "<Figure size 864x504 with 1 Axes>"
      ]
     },
     "metadata": {},
     "output_type": "display_data"
    }
   ],
   "source": [
    "feature_imp = rfc.feature_importances_.round(3)\n",
    "ser_rank = pd.Series(feature_imp, index=X.columns).sort_values(ascending = False)\n",
    "\n",
    "plt.figure(figsize=(12,7))\n",
    "sns.barplot(x= ser_rank.values, y = ser_rank.index, palette='deep')\n",
    "plt.xlabel('relative importance')\n",
    "plt.show()"
   ]
  }
 ],
 "metadata": {
  "kernelspec": {
   "display_name": "Python 3 (ipykernel)",
   "language": "python",
   "name": "python3"
  },
  "language_info": {
   "codemirror_mode": {
    "name": "ipython",
    "version": 3
   },
   "file_extension": ".py",
   "mimetype": "text/x-python",
   "name": "python",
   "nbconvert_exporter": "python",
   "pygments_lexer": "ipython3",
   "version": "3.9.12"
  }
 },
 "nbformat": 4,
 "nbformat_minor": 1
}
